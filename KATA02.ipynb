{
 "cells": [
  {
   "cell_type": "markdown",
   "metadata": {},
   "source": [
    "# ¿Qué es entorno virtual?\n",
    ">Copia autónoma de todo lo necesario para ejecutar un programa \n",
    ">(incluye el interprete de python y cualquier biblioteca que  su programa necesite)\n",
    " * Es una vm de paquetes"
   ]
  },
  {
   "cell_type": "markdown",
   "metadata": {},
   "source": [
    "# Creamos el entorno virtual\n",
    "\n",
    "![CAP1](/home/ximena/Documentos/PROGRAMMING/KATASX/katasIMG/CAP1.png)\n"
   ]
  },
  {
   "cell_type": "markdown",
   "metadata": {},
   "source": [
    "![CAP1](/home/ximena/Documentos/PROGRAMMING/KATASX/katasIMG/CAP2.png)"
   ]
  },
  {
   "cell_type": "markdown",
   "metadata": {},
   "source": [
    "![CAP1](/home/ximena/Documentos/PROGRAMMING/KATASX/katasIMG/CAP3.png)"
   ]
  },
  {
   "cell_type": "markdown",
   "metadata": {},
   "source": [
    "![CAP1](/home/ximena/Documentos/PROGRAMMING/KATASX/katasIMG/CAP4.png)"
   ]
  }
 ],
 "metadata": {
  "language_info": {
   "name": "python"
  },
  "orig_nbformat": 4
 },
 "nbformat": 4,
 "nbformat_minor": 2
}
