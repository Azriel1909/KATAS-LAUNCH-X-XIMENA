{
 "cells": [
  {
   "cell_type": "markdown",
   "metadata": {},
   "source": [
    "# Introducción a listas"
   ]
  },
  {
   "cell_type": "code",
   "execution_count": 1,
   "metadata": {},
   "outputs": [],
   "source": [
    "planetas = ['Mercury','Venus','Earth','Mars','Jupiter','Saturn','Uranus','Neptune']"
   ]
  },
  {
   "cell_type": "markdown",
   "metadata": {},
   "source": [
    "# Acceder a elementos de lista por índice"
   ]
  },
  {
   "cell_type": "code",
   "execution_count": 2,
   "metadata": {},
   "outputs": [
    {
     "name": "stdout",
     "output_type": "stream",
     "text": [
      "The first planet is -  Mercury\n",
      "The second planet is -  Venus\n",
      "The third planet is -  Earth\n"
     ]
    }
   ],
   "source": [
    "print('The first planet is - ', planetas[0])\n",
    "print('The second planet is - ', planetas[1])\n",
    "print('The third planet is - ', planetas[2])"
   ]
  },
  {
   "cell_type": "code",
   "execution_count": 3,
   "metadata": {},
   "outputs": [
    {
     "name": "stdout",
     "output_type": "stream",
     "text": [
      "Mars is also know as -  Red planet\n"
     ]
    }
   ],
   "source": [
    "planetas[3] = 'Red planet'\n",
    "print('Mars is also know as - ', planetas[3])"
   ]
  },
  {
   "cell_type": "markdown",
   "metadata": {},
   "source": [
    "# Determinar la longitud de una lista"
   ]
  },
  {
   "cell_type": "code",
   "execution_count": 4,
   "metadata": {},
   "outputs": [
    {
     "name": "stdout",
     "output_type": "stream",
     "text": [
      "There are  8  planets in the solar system.\n"
     ]
    }
   ],
   "source": [
    "numeroPlanetas = len(planetas)\n",
    "print('There are ', numeroPlanetas,' planets in the solar system.')"
   ]
  },
  {
   "cell_type": "markdown",
   "metadata": {},
   "source": [
    "# Agregar valores a la lista"
   ]
  },
  {
   "cell_type": "code",
   "execution_count": 5,
   "metadata": {},
   "outputs": [
    {
     "name": "stdout",
     "output_type": "stream",
     "text": [
      "There are actually  9  planets in the solar system\n"
     ]
    }
   ],
   "source": [
    "planetas.append('Pluto') # append método para agregar al final de la lista otro elemento\n",
    "numeroPlanetas = len(planetas)\n",
    "print('There are actually ', numeroPlanetas, ' planets in the solar system')"
   ]
  },
  {
   "cell_type": "markdown",
   "metadata": {},
   "source": [
    "# Eliminar valores de la lista"
   ]
  },
  {
   "cell_type": "code",
   "execution_count": 8,
   "metadata": {},
   "outputs": [
    {
     "name": "stdout",
     "output_type": "stream",
     "text": [
      "No, there are definitely  6  planets in the solar system.\n"
     ]
    }
   ],
   "source": [
    "planetas.pop() #Método para eliminar el último elemento de una lista\n",
    "numeroPlanetas = len(planetas)\n",
    "print('No, there are definitely ',numeroPlanetas,' planets in the solar system.')"
   ]
  },
  {
   "cell_type": "markdown",
   "metadata": {},
   "source": [
    "# índices negativos"
   ]
  },
  {
   "cell_type": "code",
   "execution_count": 10,
   "metadata": {},
   "outputs": [
    {
     "name": "stdout",
     "output_type": "stream",
     "text": [
      "Th first planet is Mercury\n"
     ]
    }
   ],
   "source": [
    "print('Th first planet is', planetas[0])"
   ]
  },
  {
   "cell_type": "code",
   "execution_count": 14,
   "metadata": {},
   "outputs": [
    {
     "name": "stdout",
     "output_type": "stream",
     "text": [
      "The last planet is Saturn\n",
      "The penultimate planet is Jupiter\n",
      "The antepenultimate planet is Red planet\n"
     ]
    }
   ],
   "source": [
    "print('The last planet is', planetas[-1])\n",
    "print('The penultimate planet is', planetas[-2])\n",
    "print('The antepenultimate planet is', planetas[-3])"
   ]
  },
  {
   "cell_type": "markdown",
   "metadata": {},
   "source": [
    "# Buscar un valor en una lista"
   ]
  },
  {
   "cell_type": "code",
   "execution_count": 15,
   "metadata": {},
   "outputs": [
    {
     "name": "stdout",
     "output_type": "stream",
     "text": [
      "Jupiter is the 5 planet from the sum\n"
     ]
    }
   ],
   "source": [
    "jupiterIndex = planetas.index('Jupiter')\n",
    "print('Jupiter is the',jupiterIndex + 1, 'planet from the sum')"
   ]
  },
  {
   "cell_type": "markdown",
   "metadata": {},
   "source": [
    "# Trabajar con números en listas\n",
    "\n",
    ">Almacenar números en listas"
   ]
  },
  {
   "cell_type": "code",
   "execution_count": 17,
   "metadata": {},
   "outputs": [],
   "source": [
    "gravedadEarth = 1.0 # G = Gravimétros\n",
    "gravedadMoon = 0.166\n",
    "gravedadPlanetas = [0.378,0.907,1,0.379,2.36,0.916,0.889,1.12]"
   ]
  },
  {
   "cell_type": "code",
   "execution_count": 18,
   "metadata": {},
   "outputs": [
    {
     "name": "stdout",
     "output_type": "stream",
     "text": [
      "On Earth, a double-decker bus weighs 12650 kg\n",
      "On Mercury, a double-decker bus weighs 4781.7 kg\n"
     ]
    }
   ],
   "source": [
    "#Ejemplo\n",
    "buskg = 12650 #  in Kilograms, on Earth\n",
    "print('On Earth, a double-decker bus weighs',buskg,'kg')\n",
    "print('On Mercury, a double-decker bus weighs',buskg*gravedadPlanetas[0],'kg')"
   ]
  },
  {
   "cell_type": "markdown",
   "metadata": {},
   "source": [
    "# min() y max()"
   ]
  },
  {
   "cell_type": "code",
   "execution_count": 21,
   "metadata": {},
   "outputs": [
    {
     "name": "stdout",
     "output_type": "stream",
     "text": [
      "On Earth, a double-decker bus weighs 12650 kg\n",
      "The lightest a bus would be in the solar system is 4781.7 kg\n",
      "The heaviest a bus would be in the solar system is 29854.0 kg\n"
     ]
    }
   ],
   "source": [
    "buskg = 12650 # in kilograms, on Earth\n",
    "\n",
    "print('On Earth, a double-decker bus weighs', buskg, 'kg')\n",
    "print('The lightest a bus would be in the solar system is', buskg * min(gravedadPlanetas), 'kg')\n",
    "print('The heaviest a bus would be in the solar system is', buskg * max(gravedadPlanetas), 'kg')"
   ]
  },
  {
   "cell_type": "markdown",
   "metadata": {},
   "source": [
    "# Manipular datos de lista"
   ]
  },
  {
   "cell_type": "code",
   "execution_count": null,
   "metadata": {},
   "outputs": [],
   "source": [
    "# slicing  (Examinando solo una parte)"
   ]
  },
  {
   "cell_type": "markdown",
   "metadata": {},
   "source": [
    "# Slice list"
   ]
  },
  {
   "cell_type": "code",
   "execution_count": 23,
   "metadata": {},
   "outputs": [
    {
     "name": "stdout",
     "output_type": "stream",
     "text": [
      "['Mercury', 'Venus']\n"
     ]
    }
   ],
   "source": [
    "planetas = ['Mercury','Venus','Earth','Mars','Jupiter','Saturn','Uranus','Neptune']\n",
    "planetasAntes = planetas[0:2]\n",
    "print(planetasAntes)\n",
    "#La Tierra no está incluida en la lista.La razón es que el índice termina antes que el índice final."
   ]
  },
  {
   "cell_type": "code",
   "execution_count": 27,
   "metadata": {},
   "outputs": [
    {
     "name": "stdout",
     "output_type": "stream",
     "text": [
      "['Mars', 'Jupiter', 'Saturn', 'Uranus', 'Neptune']\n"
     ]
    }
   ],
   "source": [
    "planetas = ['Mercury','Venus','Earth','Mars','Jupiter','Saturn','Uranus','Neptune']\n",
    "planetasDespues = planetas[3:8]\n",
    "print(planetasDespues)"
   ]
  },
  {
   "cell_type": "code",
   "execution_count": 26,
   "metadata": {},
   "outputs": [
    {
     "name": "stdout",
     "output_type": "stream",
     "text": [
      "['Mars', 'Jupiter', 'Saturn', 'Uranus', 'Neptune']\n"
     ]
    }
   ],
   "source": [
    "planetasDespues = planetas[3:]\n",
    "print(planetasDespues)"
   ]
  },
  {
   "cell_type": "markdown",
   "metadata": {},
   "source": [
    "# Unir listas"
   ]
  },
  {
   "cell_type": "code",
   "execution_count": 28,
   "metadata": {},
   "outputs": [
    {
     "name": "stdout",
     "output_type": "stream",
     "text": [
      "The regular satellite moons of Jupiter are ['Metis', 'Adrastea', 'Amalthea', 'Thebe', 'Io', 'Europa', 'Ganymede', 'Callisto']\n"
     ]
    }
   ],
   "source": [
    "amaltheaMoonsGroup = ['Metis','Adrastea','Amalthea','Thebe']\n",
    "galileanMoonsGroup = ['Io','Europa','Ganymede','Callisto']\n",
    "regularSatelliteMoons = amaltheaMoonsGroup + galileanMoonsGroup\n",
    "print('The regular satellite moons of Jupiter are',regularSatelliteMoons)\n",
    "#Al unir las listas, se crea una nueva lista.No se modifica la linea actual"
   ]
  },
  {
   "cell_type": "markdown",
   "metadata": {},
   "source": [
    "# Ordenar listas"
   ]
  },
  {
   "cell_type": "code",
   "execution_count": 29,
   "metadata": {},
   "outputs": [
    {
     "name": "stdout",
     "output_type": "stream",
     "text": [
      "The regular satellite moons of jupiter are ['Adrastea', 'Amalthea', 'Callisto', 'Europa', 'Ganymede', 'Io', 'Metis', 'Thebe']\n"
     ]
    }
   ],
   "source": [
    "regularSatelliteMoons.sort() # ordenara la lista por oden alfábético\n",
    "print('The regular satellite moons of jupiter are',regularSatelliteMoons)\n"
   ]
  },
  {
   "cell_type": "code",
   "execution_count": 30,
   "metadata": {},
   "outputs": [
    {
     "name": "stdout",
     "output_type": "stream",
     "text": [
      "The regular satellite moons of jupiter are ['Thebe', 'Metis', 'Io', 'Ganymede', 'Europa', 'Callisto', 'Amalthea', 'Adrastea']\n"
     ]
    }
   ],
   "source": [
    "regularSatelliteMoons.sort(reverse=True) # el reverso\n",
    "print('The regular satellite moons of jupiter are',regularSatelliteMoons)\n",
    "#al usar .sort se modifica la lista actual"
   ]
  },
  {
   "cell_type": "markdown",
   "metadata": {},
   "source": [
    "# EJERCICIO 1"
   ]
  },
  {
   "cell_type": "code",
   "execution_count": 33,
   "metadata": {},
   "outputs": [
    {
     "name": "stdout",
     "output_type": "stream",
     "text": [
      "There are 8 planets\n",
      "pluto is the last planet\n"
     ]
    }
   ],
   "source": [
    "planetas = ['Mercury','Venus','Earth','Mars','Jupiter','Saturn','Uranus','Neptune']\n",
    "print('There are',len(planetas),'planets')\n",
    "#Agregamos a plutón y mostramos último elemento\n",
    "planetas.append('pluto')\n",
    "print(planetas[-1],'is the last planet')\n",
    "\n"
   ]
  },
  {
   "cell_type": "markdown",
   "metadata": {},
   "source": [
    "# EJERCICIO 2"
   ]
  },
  {
   "cell_type": "code",
   "execution_count": 37,
   "metadata": {},
   "outputs": [
    {
     "name": "stdout",
     "output_type": "stream",
     "text": [
      "Planets closer thatn Mars\n",
      "['Mercury', 'Venus', 'Earth']\n",
      "Planets further thatn Mars\n",
      "['Jupiter', 'Saturn', 'Uranus', 'Neptune']\n"
     ]
    }
   ],
   "source": [
    "planetas = ['Mercury','Venus','Earth','Mars','Jupiter','Saturn','Uranus','Neptune']\n",
    "#solicitamos nombre del planeta\n",
    "planetaId = input('Name of the planet - ')\n",
    "# Buscar planeta en la lista\n",
    "planetaIndex = planetas.index(planetaId)\n",
    "# Los planetas más cercanos al sol\n",
    "print('Planets closer thatn '+planetaId)\n",
    "print(planetas[0:planetaIndex])\n",
    "# Los planetas más lejanos al sol\n",
    "print('Planets further thatn '+planetaId)\n",
    "print(planetas[planetaIndex + 1:])"
   ]
  }
 ],
 "metadata": {
  "interpreter": {
   "hash": "916dbcbb3f70747c44a77c7bcd40155683ae19c65e1c03b4aa3499c5328201f1"
  },
  "kernelspec": {
   "display_name": "Python 3.8.10 64-bit",
   "language": "python",
   "name": "python3"
  },
  "language_info": {
   "codemirror_mode": {
    "name": "ipython",
    "version": 3
   },
   "file_extension": ".py",
   "mimetype": "text/x-python",
   "name": "python",
   "nbconvert_exporter": "python",
   "pygments_lexer": "ipython3",
   "version": "3.8.10"
  },
  "orig_nbformat": 4
 },
 "nbformat": 4,
 "nbformat_minor": 2
}
