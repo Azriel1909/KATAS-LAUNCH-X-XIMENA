{
 "cells": [
  {
   "cell_type": "markdown",
   "metadata": {},
   "source": [
    "# FUNCIONES DE PYTHON"
   ]
  },
  {
   "cell_type": "code",
   "execution_count": 56,
   "metadata": {},
   "outputs": [],
   "source": [
    "# Funciones sin argumentos\n",
    "# Defino mi función\n",
    "def rocketParts():\n",
    "    print('payload,propellant,structure')"
   ]
  },
  {
   "cell_type": "code",
   "execution_count": 57,
   "metadata": {},
   "outputs": [
    {
     "name": "stdout",
     "output_type": "stream",
     "text": [
      "payload,propellant,structure\n"
     ]
    }
   ],
   "source": [
    "# Lllamo a mi función\n",
    "rocketParts()"
   ]
  },
  {
   "cell_type": "code",
   "execution_count": 58,
   "metadata": {},
   "outputs": [
    {
     "name": "stdout",
     "output_type": "stream",
     "text": [
      "payload,propellant,structure\n"
     ]
    }
   ],
   "source": [
    "output = rocketParts()"
   ]
  },
  {
   "cell_type": "code",
   "execution_count": 59,
   "metadata": {},
   "outputs": [
    {
     "data": {
      "text/plain": [
       "True"
      ]
     },
     "execution_count": 59,
     "metadata": {},
     "output_type": "execute_result"
    }
   ],
   "source": [
    "output is None"
   ]
  },
  {
   "cell_type": "code",
   "execution_count": null,
   "metadata": {},
   "outputs": [],
   "source": [
    "def rocketParts():\n",
    "    return 'payload,propellant,structure'\n",
    "output = rocketParts()\n",
    "output"
   ]
  },
  {
   "cell_type": "markdown",
   "metadata": {},
   "source": [
    "# ARGUMENTOS OPCIONALES Y REQUERIDOS"
   ]
  },
  {
   "cell_type": "code",
   "execution_count": null,
   "metadata": {},
   "outputs": [
    {
     "data": {
      "text/plain": [
       "True"
      ]
     },
     "execution_count": 7,
     "metadata": {},
     "output_type": "execute_result"
    }
   ],
   "source": [
    "any ([True,False,False])"
   ]
  },
  {
   "cell_type": "code",
   "execution_count": null,
   "metadata": {},
   "outputs": [
    {
     "data": {
      "text/plain": [
       "False"
      ]
     },
     "execution_count": 8,
     "metadata": {},
     "output_type": "execute_result"
    }
   ],
   "source": [
    "any ([False,False,False]) "
   ]
  },
  {
   "cell_type": "code",
   "execution_count": null,
   "metadata": {},
   "outputs": [
    {
     "ename": "TypeError",
     "evalue": "any() takes exactly one argument (0 given)",
     "output_type": "error",
     "traceback": [
      "\u001b[0;31m---------------------------------------------------------------------------\u001b[0m",
      "\u001b[0;31mTypeError\u001b[0m                                 Traceback (most recent call last)",
      "\u001b[1;32m/home/ximena/Documentos/PROGRAMMING/KATASX/KATA09.ipynb Cell 10'\u001b[0m in \u001b[0;36m<module>\u001b[0;34m\u001b[0m\n\u001b[0;32m----> <a href='vscode-notebook-cell:/home/ximena/Documentos/PROGRAMMING/KATASX/KATA09.ipynb#ch0000011?line=0'>1</a>\u001b[0m \u001b[39many\u001b[39;49m()\n",
      "\u001b[0;31mTypeError\u001b[0m: any() takes exactly one argument (0 given)"
     ]
    }
   ],
   "source": [
    "any()"
   ]
  },
  {
   "cell_type": "code",
   "execution_count": null,
   "metadata": {},
   "outputs": [
    {
     "data": {
      "text/plain": [
       "'15'"
      ]
     },
     "execution_count": 10,
     "metadata": {},
     "output_type": "execute_result"
    }
   ],
   "source": [
    "str()\n",
    "str(15)"
   ]
  },
  {
   "cell_type": "markdown",
   "metadata": {},
   "source": [
    "# USO DE ARGUMENTOS EN UNA FUNCIÓN DE PYTHON"
   ]
  },
  {
   "cell_type": "code",
   "execution_count": null,
   "metadata": {},
   "outputs": [],
   "source": [
    "def distanceFromEarth(destination):\n",
    "    if destination == 'Moon':\n",
    "        return '283,855'\n",
    "    else:\n",
    "        return 'Unable to compute to that destination'\n"
   ]
  },
  {
   "cell_type": "code",
   "execution_count": null,
   "metadata": {},
   "outputs": [
    {
     "ename": "TypeError",
     "evalue": "distanceFromEarth() missing 1 required positional argument: 'destination'",
     "output_type": "error",
     "traceback": [
      "\u001b[0;31m---------------------------------------------------------------------------\u001b[0m",
      "\u001b[0;31mTypeError\u001b[0m                                 Traceback (most recent call last)",
      "\u001b[1;32m/home/ximena/Documentos/PROGRAMMING/KATASX/KATA09.ipynb Cell 14'\u001b[0m in \u001b[0;36m<module>\u001b[0;34m\u001b[0m\n\u001b[0;32m----> <a href='vscode-notebook-cell:/home/ximena/Documentos/PROGRAMMING/KATASX/KATA09.ipynb#ch0000016?line=0'>1</a>\u001b[0m distanceFromEarth()\n",
      "\u001b[0;31mTypeError\u001b[0m: distanceFromEarth() missing 1 required positional argument: 'destination'"
     ]
    }
   ],
   "source": [
    "distanceFromEarth()\n",
    "# Porque no le mandamos ningún argumento, por ello nos manda el error TRACEBACK "
   ]
  },
  {
   "cell_type": "code",
   "execution_count": null,
   "metadata": {},
   "outputs": [
    {
     "data": {
      "text/plain": [
       "'283,855'"
      ]
     },
     "execution_count": 15,
     "metadata": {},
     "output_type": "execute_result"
    }
   ],
   "source": [
    "distanceFromEarth('Moon')"
   ]
  },
  {
   "cell_type": "code",
   "execution_count": null,
   "metadata": {},
   "outputs": [
    {
     "data": {
      "text/plain": [
       "'Unable to compute to that destination'"
      ]
     },
     "execution_count": 16,
     "metadata": {},
     "output_type": "execute_result"
    }
   ],
   "source": [
    "distanceFromEarth('Saturn')"
   ]
  },
  {
   "cell_type": "markdown",
   "metadata": {},
   "source": [
    "# VARIOS ARGUMENTOS NECESARIOS"
   ]
  },
  {
   "cell_type": "code",
   "execution_count": null,
   "metadata": {},
   "outputs": [],
   "source": [
    "def daysToComplete(distance,speed):\n",
    "    hours = distance/speed\n",
    "    return hours/24\n"
   ]
  },
  {
   "cell_type": "code",
   "execution_count": null,
   "metadata": {},
   "outputs": [
    {
     "data": {
      "text/plain": [
       "132.69722222222222"
      ]
     },
     "execution_count": 18,
     "metadata": {},
     "output_type": "execute_result"
    }
   ],
   "source": [
    "daysToComplete(238855,75)"
   ]
  },
  {
   "cell_type": "markdown",
   "metadata": {},
   "source": [
    "# FUNCIONES COMO ARGUMENTO"
   ]
  },
  {
   "cell_type": "code",
   "execution_count": null,
   "metadata": {},
   "outputs": [
    {
     "data": {
      "text/plain": [
       "133"
      ]
     },
     "execution_count": 19,
     "metadata": {},
     "output_type": "execute_result"
    }
   ],
   "source": [
    "totalDays = daysToComplete(238855,75)\n",
    "round(totalDays)"
   ]
  },
  {
   "cell_type": "code",
   "execution_count": null,
   "metadata": {},
   "outputs": [
    {
     "data": {
      "text/plain": [
       "133"
      ]
     },
     "execution_count": 20,
     "metadata": {},
     "output_type": "execute_result"
    }
   ],
   "source": [
    "round(daysToComplete(238855,75))"
   ]
  },
  {
   "cell_type": "markdown",
   "metadata": {},
   "source": [
    "# USO DE ARGUMENTOS DE PALABRA CLAVE EN PYTHON"
   ]
  },
  {
   "cell_type": "code",
   "execution_count": null,
   "metadata": {},
   "outputs": [],
   "source": [
    "from datetime import timedelta, datetime\n",
    "def arrivalTime(hours = 51):\n",
    "    now = datetime.now()\n",
    "    arrival = now + timedelta(hours=hours)\n",
    "    return arrival.strftime('Arrival: %A %H:%M')"
   ]
  },
  {
   "cell_type": "code",
   "execution_count": null,
   "metadata": {},
   "outputs": [
    {
     "data": {
      "text/plain": [
       "'Arrival: Saturday 16:42'"
      ]
     },
     "execution_count": 24,
     "metadata": {},
     "output_type": "execute_result"
    }
   ],
   "source": [
    "arrivalTime()\n",
    "'Arrival: Saturday 16:42'"
   ]
  },
  {
   "cell_type": "code",
   "execution_count": null,
   "metadata": {},
   "outputs": [
    {
     "data": {
      "text/plain": [
       "'Arrival: Wednesday 15:27'"
      ]
     },
     "execution_count": 26,
     "metadata": {},
     "output_type": "execute_result"
    }
   ],
   "source": [
    "arrivalTime(hours=0)\n",
    "'Arrival: Wednesday 15:27'"
   ]
  },
  {
   "cell_type": "markdown",
   "metadata": {},
   "source": [
    "# COMBINACIÓN DE ARGUMENTOS Y ARGUMENTOS DE PALABRA CLAVE"
   ]
  },
  {
   "cell_type": "code",
   "execution_count": null,
   "metadata": {},
   "outputs": [],
   "source": [
    "from datetime import timedelta,datetime\n",
    "def arrivalTime(destination, hours = 51):\n",
    "    now = datetime.now()\n",
    "    arrival = now + timedelta(hours=hours)\n",
    "    return arrival.strftime(f'{destination} Arrival: %A %H:%M')"
   ]
  },
  {
   "cell_type": "code",
   "execution_count": null,
   "metadata": {},
   "outputs": [
    {
     "ename": "TypeError",
     "evalue": "arrivalTime() missing 1 required positional argument: 'destination'",
     "output_type": "error",
     "traceback": [
      "\u001b[0;31m---------------------------------------------------------------------------\u001b[0m",
      "\u001b[0;31mTypeError\u001b[0m                                 Traceback (most recent call last)",
      "\u001b[1;32m/home/ximena/Documentos/PROGRAMMING/KATASX/KATA09.ipynb Cell 29'\u001b[0m in \u001b[0;36m<module>\u001b[0;34m\u001b[0m\n\u001b[0;32m----> <a href='vscode-notebook-cell:/home/ximena/Documentos/PROGRAMMING/KATASX/KATA09.ipynb#ch0000032?line=0'>1</a>\u001b[0m arrivalTime()\n",
      "\u001b[0;31mTypeError\u001b[0m: arrivalTime() missing 1 required positional argument: 'destination'"
     ]
    }
   ],
   "source": [
    "arrivalTime()"
   ]
  },
  {
   "cell_type": "code",
   "execution_count": null,
   "metadata": {},
   "outputs": [
    {
     "data": {
      "text/plain": [
       "'Moon Arrival: Friday 18:31'"
      ]
     },
     "execution_count": 30,
     "metadata": {},
     "output_type": "execute_result"
    }
   ],
   "source": [
    "arrivalTime('Moon')"
   ]
  },
  {
   "cell_type": "code",
   "execution_count": null,
   "metadata": {},
   "outputs": [],
   "source": [
    "arrivalTime('Orbit', hours=0.13)\n",
    "'orbit arrival:  Wednesday 15:27'\n"
   ]
  },
  {
   "cell_type": "markdown",
   "metadata": {},
   "source": [
    "# USO DE ARGUMENTOS DE VARIABLES EN PYTHON"
   ]
  },
  {
   "cell_type": "code",
   "execution_count": null,
   "metadata": {},
   "outputs": [],
   "source": [
    "# Argumentos de variables\n",
    "def variableLength(*args):\n",
    "    print(args) # Acepta cualquier número de elementos"
   ]
  },
  {
   "cell_type": "code",
   "execution_count": null,
   "metadata": {},
   "outputs": [
    {
     "name": "stdout",
     "output_type": "stream",
     "text": [
      "('one', 'two')\n",
      "(None,)\n"
     ]
    }
   ],
   "source": [
    "variableLength('one','two')\n",
    "('one','two')\n",
    "variableLength(None)"
   ]
  },
  {
   "cell_type": "code",
   "execution_count": null,
   "metadata": {},
   "outputs": [],
   "source": [
    "def sequenceTime(*args):\n",
    "    totalMinutes = sum(args)\n",
    "    if totalMinutes < 60:\n",
    "        return f'Total time to launch is {totalMinutes} minutes '\n",
    "    else:\n",
    "        return f'Total time to launch is {totalMinutes/60} hours '"
   ]
  },
  {
   "cell_type": "code",
   "execution_count": null,
   "metadata": {},
   "outputs": [
    {
     "data": {
      "text/plain": [
       "'Total time to launch is 36 minutes '"
      ]
     },
     "execution_count": 41,
     "metadata": {},
     "output_type": "execute_result"
    }
   ],
   "source": [
    "sequenceTime(4,14,18)\n"
   ]
  },
  {
   "cell_type": "code",
   "execution_count": null,
   "metadata": {},
   "outputs": [
    {
     "data": {
      "text/plain": [
       "'Total time to launch is 1.1 hours '"
      ]
     },
     "execution_count": 42,
     "metadata": {},
     "output_type": "execute_result"
    }
   ],
   "source": [
    "sequenceTime(4,14,48)"
   ]
  },
  {
   "cell_type": "markdown",
   "metadata": {},
   "source": [
    "# ARGUMENTOS DE PALABRA CLAVE VARIABLE"
   ]
  },
  {
   "cell_type": "code",
   "execution_count": null,
   "metadata": {},
   "outputs": [],
   "source": [
    "def variableLength(**kwargs):\n",
    "    print(kwargs)"
   ]
  },
  {
   "cell_type": "code",
   "execution_count": null,
   "metadata": {},
   "outputs": [
    {
     "name": "stdout",
     "output_type": "stream",
     "text": [
      "{'thanks': 1, 'day': 'Wednesday', 'pilots': 3}\n"
     ]
    }
   ],
   "source": [
    "variableLength(thanks=1,day=\"Wednesday\",pilots =3)"
   ]
  },
  {
   "cell_type": "code",
   "execution_count": null,
   "metadata": {},
   "outputs": [],
   "source": [
    "def crew_members(**kwargs):\n",
    "    print(f'{len(kwargs)} astronauts assigned for this mission:')\n",
    "    for title, name in kwargs.items():\n",
    "        print(f'{title}: {name}')"
   ]
  },
  {
   "cell_type": "code",
   "execution_count": null,
   "metadata": {},
   "outputs": [
    {
     "name": "stdout",
     "output_type": "stream",
     "text": [
      "3 astronauts assigned for this mission:\n",
      "captian: Ximena Toledo\n",
      "pilot: Buzz Aldrin\n",
      "coomandPilot: Sebas\n"
     ]
    }
   ],
   "source": [
    "crew_members(captian='Ximena Toledo', pilot= 'Buzz Aldrin',coomandPilot = 'Sebas')"
   ]
  },
  {
   "cell_type": "code",
   "execution_count": null,
   "metadata": {},
   "outputs": [
    {
     "ename": "SyntaxError",
     "evalue": "keyword argument repeated (3974025199.py, line 2)",
     "output_type": "error",
     "traceback": [
      "\u001b[0;36m  Input \u001b[0;32mIn [49]\u001b[0;36m\u001b[0m\n\u001b[0;31m    crew_members(captain='Neil Armstrong', pilot='Buzz Aldrin', pilot='Michael Collins')\u001b[0m\n\u001b[0m                                                                ^\u001b[0m\n\u001b[0;31mSyntaxError\u001b[0m\u001b[0;31m:\u001b[0m keyword argument repeated\n"
     ]
    }
   ],
   "source": [
    "# Dado que puede pasar cualquier combinación de argumentos de palabra clave, nos aseguramos de evitar palabras clave repetidas. Las palabras clave repetidas producirán un error:\n",
    "crew_members(captain='Neil Armstrong', pilot='Buzz Aldrin', pilot='Michael Collins')\n"
   ]
  },
  {
   "cell_type": "markdown",
   "metadata": {},
   "source": [
    "# EJERCICIO 1"
   ]
  },
  {
   "cell_type": "code",
   "execution_count": null,
   "metadata": {},
   "outputs": [
    {
     "name": "stdout",
     "output_type": "stream",
     "text": [
      " REPORTE DE COMBUSTIBLE\n",
      "    PROMEDIO TOTAL - 419.0%\n",
      "    TANQUE 1 - 19%\n",
      "    TANQUE 2 - 119%\n",
      "    TANQUE 3 - 1119%\n",
      "    \n",
      " REPORTE DE COMBUSTIBLE\n",
      "    PROMEDIO TOTAL - 65.66666666666667%\n",
      "    TANQUE 1 - 89%\n",
      "    TANQUE 2 - 79%\n",
      "    TANQUE 3 - 29%\n",
      "    \n"
     ]
    }
   ],
   "source": [
    "# Función para leer 3 tanques de combustible y muestre el promedio\n",
    "def reporte (tanque1,tanque2,tanque3):\n",
    "    promedioTotal = (tanque1+tanque2+tanque3)/3\n",
    "    return f\"\"\" REPORTE DE COMBUSTIBLE\n",
    "    PROMEDIO TOTAL - {promedioTotal}%\n",
    "    TANQUE 1 - {tanque1}%\n",
    "    TANQUE 2 - {tanque2}%\n",
    "    TANQUE 3 - {tanque3}%\n",
    "    \"\"\"\n",
    "# Llamamos a la función que genera un reporte con el print\n",
    "print(reporte(19,119,1119))\n",
    "# función promedio\n",
    "def promedio(values):\n",
    "    total = sum(values)\n",
    "    items = len(values)\n",
    "    return total/items;\n",
    "#Actualiza la función\n",
    "def reporteNuevo(tanque1,tanque2,tanque3):\n",
    "    return f\"\"\" REPORTE DE COMBUSTIBLE\n",
    "    PROMEDIO TOTAL - {promedio([tanque1,tanque2,tanque3])}%\n",
    "    TANQUE 1 - {tanque1}%\n",
    "    TANQUE 2 - {tanque2}%\n",
    "    TANQUE 3 - {tanque3}%\n",
    "    \"\"\"\n",
    "print(reporte(89,79,29))\n"
   ]
  },
  {
   "cell_type": "markdown",
   "metadata": {},
   "source": [
    "# EJERCICIO 2"
   ]
  },
  {
   "cell_type": "code",
   "execution_count": null,
   "metadata": {},
   "outputs": [
    {
     "name": "stdout",
     "output_type": "stream",
     "text": [
      " REPORTE DE COMBUSTIBLE\n",
      "    TIEMPO DE VIAJE TOTAL - 6019% MINUTES\n",
      "    DESTINO - LUNA%\n",
      "    TANQUE EXTERNO - 30000000%\n",
      "    TANQUE INTERNO - 90000000%\n",
      "    \n",
      " REPORTE DE COMBUSTIBLE\n",
      "    TIEMPO DE VIAJE TOTAL - 6000000019 MINUTES\n",
      "    DESTINO - MARTE%\n",
      "    TANQUE EXTERNO - 30000000%\n",
      "    TANQUE INTERNO - 90000000%\n",
      "    COMBUSTIBLE TOTAL - 4000000000%\n",
      "    \n",
      "None\n",
      " REPORTE DE COMBUSTIBLE\n",
      "    DESTINO - Moon%\n",
      "    TIEMPO DE VIAJE TOTAL - 74 minutos\n",
      "    COMBUSTIBLE TOTAL - 23000000%\n",
      "    \n"
     ]
    }
   ],
   "source": [
    "#Función con un informe preciso de la misisón. COnsidera hora de prelanzamiento, tiempo de vuelo, destino, tanque externo y tanque interno\n",
    "def informe (preLanzamiento,tiempoDeVuelo,destino,tanqueExterno,tanqueInterno):\n",
    "    return f\"\"\" REPORTE DE COMBUSTIBLE\n",
    "    TIEMPO DE VIAJE TOTAL - {preLanzamiento + tiempoDeVuelo }% MINUTES\n",
    "    DESTINO - {destino}%\n",
    "    TANQUE EXTERNO - {tanqueExterno}%\n",
    "    TANQUE INTERNO - {tanqueInterno}%\n",
    "    \"\"\"\n",
    "print(informe(19,6000,'LUNA',30_000_000,90_000_000))\n",
    "\n",
    "def informeNueva (preLanzamiento,tiempoDeVuelo,destino,tanqueExterno,tanqueInterno,combustible):\n",
    "    return f\"\"\" REPORTE DE COMBUSTIBLE\n",
    "    TIEMPO DE VIAJE TOTAL - {preLanzamiento + tiempoDeVuelo } MINUTES\n",
    "    DESTINO - {destino}%\n",
    "    TANQUE EXTERNO - {tanqueExterno}%\n",
    "    TANQUE INTERNO - {tanqueInterno}%\n",
    "    COMBUSTIBLE TOTAL - {combustible}%\n",
    "    \"\"\"\n",
    "print(informeNueva(19,6000000000,'MARTE',30_000_000,90_000_000,4000000000))\n",
    "##De acuerdo a la solución\n",
    "def informeNueva1 (destino,*minutos,**reservaCombustible):\n",
    "    mainReport = f\"\"\" REPORTE DE COMBUSTIBLE\n",
    "    DESTINO - {destino}%\n",
    "    TIEMPO DE VIAJE TOTAL - {sum(minutos)} minutos\n",
    "    COMBUSTIBLE TOTAL - {sum(reservaCombustible.values())}%\n",
    "    \"\"\"\n",
    "print(informeNueva1(\"Moon\",8,11,55,main=3000000,external=20000000))\n",
    "# Escribe tu nueva función\n",
    "def informeNueva2 (destino,*minutos,**reservaCombustible):\n",
    "    return f\"\"\" REPORTE DE COMBUSTIBLE\n",
    "    DESTINO - {destino}%\n",
    "    TIEMPO DE VIAJE TOTAL - {sum(minutos)} minutos\n",
    "    COMBUSTIBLE TOTAL - {sum(reservaCombustible.values())}%\n",
    "    \"\"\"\n",
    "    for etiquetaTanque, gallones in reservaCombustible.items():\n",
    "        main_report += f'{tankName} tank ---> {gallones} gallons left\\n'\n",
    "    return mainReport\n",
    "print(informeNueva2(\"Moon\",8,11,55,main=3000000,external=20000000))\n"
   ]
  }
 ],
 "metadata": {
  "interpreter": {
   "hash": "916dbcbb3f70747c44a77c7bcd40155683ae19c65e1c03b4aa3499c5328201f1"
  },
  "kernelspec": {
   "display_name": "Python 3.8.10 64-bit",
   "language": "python",
   "name": "python3"
  },
  "language_info": {
   "codemirror_mode": {
    "name": "ipython",
    "version": 3
   },
   "file_extension": ".py",
   "mimetype": "text/x-python",
   "name": "python",
   "nbconvert_exporter": "python",
   "pygments_lexer": "ipython3",
   "version": "3.8.10"
  },
  "orig_nbformat": 4
 },
 "nbformat": 4,
 "nbformat_minor": 2
}
