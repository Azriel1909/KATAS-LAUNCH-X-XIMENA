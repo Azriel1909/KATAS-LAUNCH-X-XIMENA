{
 "cells": [
  {
   "cell_type": "markdown",
   "metadata": {},
   "source": [
    "# CICLOS FOR Y WHILE"
   ]
  },
  {
   "cell_type": "code",
   "execution_count": null,
   "metadata": {},
   "outputs": [],
   "source": [
    "# While -> realiza una operación mientras una determinada condición es true\n",
    "# While, condición que se va a probar y el código a ejecutar\n",
    "\n",
    "userInput = ''\n",
    "while userInput.lower() !='done':\n",
    "    userInput = input('Enter a new value, or done when done')"
   ]
  },
  {
   "cell_type": "code",
   "execution_count": 3,
   "metadata": {},
   "outputs": [],
   "source": [
    "# Creamos la variable que almacene el texto\n",
    "userInput2 = ''\n",
    "# Creamos una lista que almacena cada uno de los textos que el usuario ingresa\n",
    "inputS = []\n",
    "# Ciclo while\n",
    "while userInput2.lower() != 'done':\n",
    "    #Verificamos si hay un valor en userInput2\n",
    "    if userInput2:\n",
    "        #Almacenamos este valor a la lista\n",
    "        inputS.append(userInput2)\n",
    "    \n",
    "    # Capturamos el nuevo valor\n",
    "    userInput2 = input('Enter a new value, or done when done') "
   ]
  },
  {
   "cell_type": "markdown",
   "metadata": {},
   "source": [
    "# USO DE CICLOS FOR CON LISTAS"
   ]
  },
  {
   "cell_type": "code",
   "execution_count": 4,
   "metadata": {},
   "outputs": [
    {
     "name": "stdout",
     "output_type": "stream",
     "text": [
      "The first planet is  Mercury\n",
      "The second planet is  Venus\n",
      "The third planet is  Earth\n"
     ]
    }
   ],
   "source": [
    "planetas = [\"Mercury\",\"Venus\",\"Earth\",\"Mars\",\"Jupiter\",\"Saturn\",\"Uranus\",\"Neptune\"]\n",
    "print(\"The first planet is \", planetas[0])\n",
    "print(\"The second planet is \", planetas[1])\n",
    "print(\"The third planet is \", planetas[2])"
   ]
  },
  {
   "cell_type": "markdown",
   "metadata": {},
   "source": [
    "# CICLOS FOR"
   ]
  },
  {
   "cell_type": "code",
   "execution_count": 5,
   "metadata": {},
   "outputs": [
    {
     "name": "stdout",
     "output_type": "stream",
     "text": [
      "4\n",
      "3\n",
      "2\n",
      "1\n",
      "0\n",
      "Blast off¡\n"
     ]
    }
   ],
   "source": [
    "countdown = [4,3,2,1,0]\n",
    "for number in countdown:\n",
    "    print(number)\n",
    "print(\"Blast off¡\")"
   ]
  },
  {
   "cell_type": "code",
   "execution_count": 6,
   "metadata": {},
   "outputs": [
    {
     "name": "stdout",
     "output_type": "stream",
     "text": [
      "4\n",
      "3\n",
      "2\n",
      "1\n",
      "0\n",
      "Blast off¡\n"
     ]
    }
   ],
   "source": [
    "# De la biblioteca time, importamos (traemos) la clase sleep\n",
    "from time import sleep\n",
    "#Creamos una lista de 5 números llamada countdown\n",
    "countdown = [4,3,2,1,0]\n",
    "# Para cada número en countdown\n",
    "for num in countdown:\n",
    "    # Muestra el número\n",
    "    print(num)\n",
    "    # Espera(1 segundo)\n",
    "    sleep(1)\n",
    "# Muestra el mensaje\n",
    "print(\"Blast off¡\")"
   ]
  },
  {
   "cell_type": "markdown",
   "metadata": {},
   "source": [
    "# EJERCICIO 1"
   ]
  },
  {
   "cell_type": "code",
   "execution_count": 8,
   "metadata": {},
   "outputs": [],
   "source": [
    "new_planet = ''\n",
    "planets = []\n",
    "\n",
    "while new_planet.lower() != 'done':\n",
    "    if new_planet:\n",
    "        planets.append(new_planet)\n",
    "    new_planet = input('Enter a new planet ')"
   ]
  },
  {
   "cell_type": "markdown",
   "metadata": {},
   "source": [
    "# EJERCICIO 2\n"
   ]
  },
  {
   "cell_type": "code",
   "execution_count": 9,
   "metadata": {},
   "outputs": [
    {
     "name": "stdout",
     "output_type": "stream",
     "text": [
      "Mercurio\n",
      "Venus\n",
      "Marte\n",
      "Tierra\n"
     ]
    }
   ],
   "source": [
    "for planet in planets:\n",
    "    print(planet)"
   ]
  }
 ],
 "metadata": {
  "interpreter": {
   "hash": "916dbcbb3f70747c44a77c7bcd40155683ae19c65e1c03b4aa3499c5328201f1"
  },
  "kernelspec": {
   "display_name": "Python 3.8.10 64-bit",
   "language": "python",
   "name": "python3"
  },
  "language_info": {
   "codemirror_mode": {
    "name": "ipython",
    "version": 3
   },
   "file_extension": ".py",
   "mimetype": "text/x-python",
   "name": "python",
   "nbconvert_exporter": "python",
   "pygments_lexer": "ipython3",
   "version": "3.8.10"
  },
  "orig_nbformat": 4
 },
 "nbformat": 4,
 "nbformat_minor": 2
}
